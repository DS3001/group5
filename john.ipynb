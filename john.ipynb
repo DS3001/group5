{
 "cells": [
  {
   "cell_type": "code",
   "execution_count": 1,
   "id": "71a7a83c",
   "metadata": {},
   "outputs": [],
   "source": [
    "# import packages\n",
    "# fun story I don't think we can use git clone to get the data into the workspace\n",
    "# because it's private\n",
    "# so I'm just gonna keep using Jupyter and we just gotta each have different filepath names I think\n",
    "# which is quite irritating in terms of committing new changes to the main notebook\n",
    "# so please lmk if you have any ideas\n",
    "\n",
    "import pandas as pd\n",
    "import numpy as np\n",
    "import seaborn as sns\n",
    "\n",
    "# sure we'll need more but these are just the ones I remember off dome"
   ]
  },
  {
   "cell_type": "code",
   "execution_count": 3,
   "id": "cd190337",
   "metadata": {},
   "outputs": [
    {
     "name": "stdout",
     "output_type": "stream",
     "text": [
      "     YEAR    ID  WRKSTAT  HRS1  HRS2  EVWORK  WRKSLF  WRKGOVT   OCC10  \\\n",
      "0  2018.0   1.0      3.0   NaN  41.0     NaN     2.0      2.0   630.0   \n",
      "1  2018.0   2.0      5.0   NaN   NaN     1.0     2.0      2.0  9640.0   \n",
      "2  2018.0   3.0      1.0  40.0   NaN     NaN     2.0      2.0  1106.0   \n",
      "3  2018.0   4.0      1.0  40.0   NaN     NaN     2.0      2.0  3320.0   \n",
      "4  2018.0   5.0      5.0   NaN   NaN     1.0     2.0      2.0    10.0   \n",
      "5  2018.0   6.0      5.0   NaN   NaN     1.0     2.0      2.0   120.0   \n",
      "6  2018.0   7.0      1.0  35.0   NaN     NaN     2.0      1.0  3600.0   \n",
      "7  2018.0   8.0      1.0  89.0   NaN     NaN     2.0      2.0  5610.0   \n",
      "8  2018.0   9.0      1.0  40.0   NaN     NaN     1.0      2.0  4600.0   \n",
      "9  2018.0  10.0      1.0  40.0   NaN     NaN     2.0      2.0  6700.0   \n",
      "\n",
      "   PRESTG10  ...  RLOOKS  RGROOMED  RWEIGHT  RHLTHEND      WTSS    WTSSNR  \\\n",
      "0      47.0  ...     NaN       NaN      NaN       NaN  2.357493  2.753531   \n",
      "1      22.0  ...     3.0       3.0      2.0       NaN  0.942997  1.101412   \n",
      "2      61.0  ...     NaN       NaN      NaN       NaN  0.942997  1.101412   \n",
      "3      59.0  ...     4.0       3.0      3.0       NaN  0.942997  1.101412   \n",
      "4      53.0  ...     NaN       NaN      NaN       NaN  0.942997  1.101412   \n",
      "5      53.0  ...     4.0       4.0      3.0       NaN  0.942997  1.101412   \n",
      "6      48.0  ...     3.0       3.0      2.0       NaN  0.942997  1.101412   \n",
      "7      35.0  ...     3.0       3.0      4.0       1.0  0.471499  0.550706   \n",
      "8      35.0  ...     1.0       1.0      1.0       4.0  0.471499  0.550706   \n",
      "9      39.0  ...     4.0       4.0      3.0       NaN  0.942997  1.101412   \n",
      "\n",
      "    WTSSALL  VSTRAT  VPSU  FILEVERSION  \n",
      "0  2.357493  3301.0   1.0       7222.1  \n",
      "1  0.942997  3301.0   1.0       7222.1  \n",
      "2  0.942997  3301.0   1.0       7222.1  \n",
      "3  0.942997  3301.0   1.0       7222.1  \n",
      "4  0.942997  3301.0   1.0       7222.1  \n",
      "5  0.942997  3301.0   1.0       7222.1  \n",
      "6  0.942997  3301.0   1.0       7222.1  \n",
      "7  0.471499  3301.0   1.0       7222.1  \n",
      "8  0.471499  3301.0   1.0       7222.1  \n",
      "9  0.942997  3301.0   2.0       7222.1  \n",
      "\n",
      "[10 rows x 1066 columns]\n"
     ]
    }
   ],
   "source": [
    "filepath_2018 = r\"C:\\Users\\charl\\Downloads\\gss2018.sas7bdat\"\n",
    "df_2018 = pd.read_sas(filepath_2018)\n",
    "print(df_2018.head(10))"
   ]
  },
  {
   "cell_type": "code",
   "execution_count": 4,
   "id": "82a686ab",
   "metadata": {},
   "outputs": [
    {
     "name": "stdout",
     "output_type": "stream",
     "text": [
      "     YEAR    ID  WRKSTAT  HRS1  HRS2  EVWORK  WRKSLF   OCC10  PRESTG10  \\\n",
      "0  2022.0   1.0      1.0  40.0   NaN     NaN     2.0   430.0      39.0   \n",
      "1  2022.0   2.0      5.0   NaN   NaN     1.0     2.0    50.0      53.0   \n",
      "2  2022.0   3.0      1.0  52.0   NaN     NaN     2.0  4610.0      48.0   \n",
      "3  2022.0   4.0      3.0   NaN  25.0     NaN     2.0  4120.0      34.0   \n",
      "4  2022.0   5.0      8.0   NaN   NaN     1.0     2.0  7330.0      38.0   \n",
      "5  2022.0   6.0      1.0  50.0   NaN     NaN     2.0  4610.0      48.0   \n",
      "6  2022.0   7.0      2.0  30.0   NaN     NaN     2.0  1105.0      61.0   \n",
      "7  2022.0   8.0      1.0  40.0   NaN     NaN     2.0  2200.0      74.0   \n",
      "8  2022.0   9.0      1.0  31.0   NaN     NaN     2.0  4110.0      31.0   \n",
      "9  2022.0  10.0      5.0   NaN   NaN     1.0     2.0  3600.0      48.0   \n",
      "\n",
      "   INDUS10  ...  RHEIGHT  INSTYPE01  INSTYPE02  INSTYPE03  INSTYPE04  \\\n",
      "0   6290.0  ...     64.0        3.0        NaN        NaN        NaN   \n",
      "1   6695.0  ...      NaN        NaN        NaN        NaN        NaN   \n",
      "2   8290.0  ...     63.0        5.0        NaN        NaN        NaN   \n",
      "3   8660.0  ...      NaN        NaN        NaN        NaN        NaN   \n",
      "4   3390.0  ...     71.0        1.0        NaN        NaN        NaN   \n",
      "5   8180.0  ...     72.0        1.0        NaN        NaN        NaN   \n",
      "6   8090.0  ...     63.0        1.0        NaN        NaN        NaN   \n",
      "7   7870.0  ...     69.0        3.0        NaN        NaN        NaN   \n",
      "8   8680.0  ...      NaN        NaN        NaN        NaN        NaN   \n",
      "9   8170.0  ...      NaN        NaN        NaN        NaN        NaN   \n",
      "\n",
      "   TOTALINCENTIVE  WTSSPS_NEA  WTSSNRPS_NEA  WTSSPS_NEXT  WTSSNRPS_NEXT  \n",
      "0           177.0         NaN           NaN     0.230979       0.321541  \n",
      "1           200.0         NaN           NaN          NaN            NaN  \n",
      "2            52.0         NaN           NaN          NaN            NaN  \n",
      "3           127.0         NaN           NaN     0.880743       1.275261  \n",
      "4            87.0    1.704444      3.055183     1.693235       2.460412  \n",
      "5           102.0         NaN           NaN          NaN            NaN  \n",
      "6           102.0         NaN           NaN          NaN            NaN  \n",
      "7            57.0         NaN           NaN          NaN            NaN  \n",
      "8           102.0         NaN           NaN          NaN            NaN  \n",
      "9            52.0         NaN           NaN          NaN            NaN  \n",
      "\n",
      "[10 rows x 879 columns]\n"
     ]
    }
   ],
   "source": [
    "filepath_2022 = r\"C:\\Users\\charl\\Downloads\\2022\\2022\\gss2022.sas7bdat\"\n",
    "df_2022 = pd.read_sas(filepath_2022)\n",
    "print(df_2022.head(10))"
   ]
  },
  {
   "cell_type": "code",
   "execution_count": null,
   "id": "e7e4be6d",
   "metadata": {},
   "outputs": [],
   "source": [
    "# create smaller dataframe with only the stuff we need\n",
    "\n",
    "var1 =\n",
    "var2 =\n",
    "\n",
    "df_2018_mod = df_2018[[var1, var2]]\n",
    "df_2022_mod = df_2022[[var1, var2]]"
   ]
  },
  {
   "cell_type": "code",
   "execution_count": null,
   "id": "9119b353",
   "metadata": {},
   "outputs": [],
   "source": [
    "# merge dataframes from both df_mods"
   ]
  }
 ],
 "metadata": {
  "kernelspec": {
   "display_name": "Python 3 (ipykernel)",
   "language": "python",
   "name": "python3"
  },
  "language_info": {
   "codemirror_mode": {
    "name": "ipython",
    "version": 3
   },
   "file_extension": ".py",
   "mimetype": "text/x-python",
   "name": "python",
   "nbconvert_exporter": "python",
   "pygments_lexer": "ipython3",
   "version": "3.10.9"
  }
 },
 "nbformat": 4,
 "nbformat_minor": 5
}
